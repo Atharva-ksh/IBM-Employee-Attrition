{
 "cells": [
  {
   "cell_type": "markdown",
   "metadata": {},
   "source": [
    "# IBM Employee Attrition Predictor"
   ]
  },
  {
   "cell_type": "code",
   "execution_count": 1,
   "metadata": {},
   "outputs": [],
   "source": [
    "import numpy as np\n",
    "import pandas as pd\n",
    "import matplotlib.pyplot as plt\n",
    "import seaborn as sns\n",
    "import warnings\n",
    "warnings.filterwarnings('ignore')\n",
    "sns.set()"
   ]
  },
  {
   "cell_type": "code",
   "execution_count": 2,
   "metadata": {},
   "outputs": [
    {
     "data": {
      "text/html": [
       "<div>\n",
       "<style scoped>\n",
       "    .dataframe tbody tr th:only-of-type {\n",
       "        vertical-align: middle;\n",
       "    }\n",
       "\n",
       "    .dataframe tbody tr th {\n",
       "        vertical-align: top;\n",
       "    }\n",
       "\n",
       "    .dataframe thead th {\n",
       "        text-align: right;\n",
       "    }\n",
       "</style>\n",
       "<table border=\"1\" class=\"dataframe\">\n",
       "  <thead>\n",
       "    <tr style=\"text-align: right;\">\n",
       "      <th></th>\n",
       "      <th>Attrition</th>\n",
       "      <th>Age</th>\n",
       "      <th>BusinessTravel</th>\n",
       "      <th>Research &amp; Development</th>\n",
       "      <th>Sales</th>\n",
       "      <th>DistanceFromHome</th>\n",
       "      <th>Education</th>\n",
       "      <th>EnvironmentSatisfaction</th>\n",
       "      <th>Gender</th>\n",
       "      <th>JobInvolvement</th>\n",
       "      <th>...</th>\n",
       "      <th>MonthlyIncome</th>\n",
       "      <th>NumCompaniesWorked</th>\n",
       "      <th>OverTime</th>\n",
       "      <th>PercentSalaryHike</th>\n",
       "      <th>RelationshipSatisfaction</th>\n",
       "      <th>StockOptionLevel</th>\n",
       "      <th>TrainingTimesLastYear</th>\n",
       "      <th>WorkLifeBalance</th>\n",
       "      <th>YearsSinceLastPromotion</th>\n",
       "      <th>YearsWithCurrManager</th>\n",
       "    </tr>\n",
       "  </thead>\n",
       "  <tbody>\n",
       "    <tr>\n",
       "      <th>0</th>\n",
       "      <td>1</td>\n",
       "      <td>41</td>\n",
       "      <td>1</td>\n",
       "      <td>0</td>\n",
       "      <td>1</td>\n",
       "      <td>1</td>\n",
       "      <td>2</td>\n",
       "      <td>2</td>\n",
       "      <td>1</td>\n",
       "      <td>3</td>\n",
       "      <td>...</td>\n",
       "      <td>5993</td>\n",
       "      <td>8</td>\n",
       "      <td>1</td>\n",
       "      <td>11</td>\n",
       "      <td>1</td>\n",
       "      <td>0</td>\n",
       "      <td>0</td>\n",
       "      <td>1</td>\n",
       "      <td>0</td>\n",
       "      <td>5</td>\n",
       "    </tr>\n",
       "    <tr>\n",
       "      <th>1</th>\n",
       "      <td>0</td>\n",
       "      <td>49</td>\n",
       "      <td>2</td>\n",
       "      <td>1</td>\n",
       "      <td>0</td>\n",
       "      <td>8</td>\n",
       "      <td>1</td>\n",
       "      <td>3</td>\n",
       "      <td>0</td>\n",
       "      <td>2</td>\n",
       "      <td>...</td>\n",
       "      <td>5130</td>\n",
       "      <td>1</td>\n",
       "      <td>0</td>\n",
       "      <td>23</td>\n",
       "      <td>4</td>\n",
       "      <td>1</td>\n",
       "      <td>3</td>\n",
       "      <td>3</td>\n",
       "      <td>1</td>\n",
       "      <td>7</td>\n",
       "    </tr>\n",
       "    <tr>\n",
       "      <th>2</th>\n",
       "      <td>1</td>\n",
       "      <td>37</td>\n",
       "      <td>1</td>\n",
       "      <td>1</td>\n",
       "      <td>0</td>\n",
       "      <td>2</td>\n",
       "      <td>2</td>\n",
       "      <td>4</td>\n",
       "      <td>0</td>\n",
       "      <td>2</td>\n",
       "      <td>...</td>\n",
       "      <td>2090</td>\n",
       "      <td>6</td>\n",
       "      <td>1</td>\n",
       "      <td>15</td>\n",
       "      <td>2</td>\n",
       "      <td>0</td>\n",
       "      <td>3</td>\n",
       "      <td>3</td>\n",
       "      <td>0</td>\n",
       "      <td>0</td>\n",
       "    </tr>\n",
       "    <tr>\n",
       "      <th>3</th>\n",
       "      <td>0</td>\n",
       "      <td>33</td>\n",
       "      <td>2</td>\n",
       "      <td>1</td>\n",
       "      <td>0</td>\n",
       "      <td>3</td>\n",
       "      <td>4</td>\n",
       "      <td>4</td>\n",
       "      <td>1</td>\n",
       "      <td>3</td>\n",
       "      <td>...</td>\n",
       "      <td>2909</td>\n",
       "      <td>1</td>\n",
       "      <td>1</td>\n",
       "      <td>11</td>\n",
       "      <td>3</td>\n",
       "      <td>0</td>\n",
       "      <td>3</td>\n",
       "      <td>3</td>\n",
       "      <td>3</td>\n",
       "      <td>0</td>\n",
       "    </tr>\n",
       "    <tr>\n",
       "      <th>4</th>\n",
       "      <td>0</td>\n",
       "      <td>27</td>\n",
       "      <td>1</td>\n",
       "      <td>1</td>\n",
       "      <td>0</td>\n",
       "      <td>2</td>\n",
       "      <td>1</td>\n",
       "      <td>1</td>\n",
       "      <td>0</td>\n",
       "      <td>3</td>\n",
       "      <td>...</td>\n",
       "      <td>3468</td>\n",
       "      <td>9</td>\n",
       "      <td>0</td>\n",
       "      <td>12</td>\n",
       "      <td>4</td>\n",
       "      <td>1</td>\n",
       "      <td>3</td>\n",
       "      <td>3</td>\n",
       "      <td>2</td>\n",
       "      <td>2</td>\n",
       "    </tr>\n",
       "  </tbody>\n",
       "</table>\n",
       "<p>5 rows × 22 columns</p>\n",
       "</div>"
      ],
      "text/plain": [
       "   Attrition  Age  BusinessTravel  Research & Development  Sales  \\\n",
       "0          1   41               1                       0      1   \n",
       "1          0   49               2                       1      0   \n",
       "2          1   37               1                       1      0   \n",
       "3          0   33               2                       1      0   \n",
       "4          0   27               1                       1      0   \n",
       "\n",
       "   DistanceFromHome  Education  EnvironmentSatisfaction  Gender  \\\n",
       "0                 1          2                        2       1   \n",
       "1                 8          1                        3       0   \n",
       "2                 2          2                        4       0   \n",
       "3                 3          4                        4       1   \n",
       "4                 2          1                        1       0   \n",
       "\n",
       "   JobInvolvement  ...  MonthlyIncome  NumCompaniesWorked  OverTime  \\\n",
       "0               3  ...           5993                   8         1   \n",
       "1               2  ...           5130                   1         0   \n",
       "2               2  ...           2090                   6         1   \n",
       "3               3  ...           2909                   1         1   \n",
       "4               3  ...           3468                   9         0   \n",
       "\n",
       "   PercentSalaryHike  RelationshipSatisfaction  StockOptionLevel  \\\n",
       "0                 11                         1                 0   \n",
       "1                 23                         4                 1   \n",
       "2                 15                         2                 0   \n",
       "3                 11                         3                 0   \n",
       "4                 12                         4                 1   \n",
       "\n",
       "   TrainingTimesLastYear  WorkLifeBalance  YearsSinceLastPromotion  \\\n",
       "0                      0                1                        0   \n",
       "1                      3                3                        1   \n",
       "2                      3                3                        0   \n",
       "3                      3                3                        3   \n",
       "4                      3                3                        2   \n",
       "\n",
       "   YearsWithCurrManager  \n",
       "0                     5  \n",
       "1                     7  \n",
       "2                     0  \n",
       "3                     0  \n",
       "4                     2  \n",
       "\n",
       "[5 rows x 22 columns]"
      ]
     },
     "execution_count": 2,
     "metadata": {},
     "output_type": "execute_result"
    }
   ],
   "source": [
    "df = pd.read_csv('employee_attrition_preprocessed.csv')\n",
    "df.head()"
   ]
  },
  {
   "cell_type": "code",
   "execution_count": 3,
   "metadata": {
    "scrolled": true
   },
   "outputs": [
    {
     "data": {
      "text/plain": [
       "<matplotlib.axes._subplots.AxesSubplot at 0x2209b064d08>"
      ]
     },
     "execution_count": 3,
     "metadata": {},
     "output_type": "execute_result"
    },
    {
     "data": {
      "image/png": "[encoded data removed]",
      "text/plain": [
       "<Figure size 432x288 with 1 Axes>"
      ]
     },
     "metadata": {},
     "output_type": "display_data"
    }
   ],
   "source": [
    "sns.countplot(df.Attrition)"
   ]
  },
  {
   "cell_type": "code",
   "execution_count": 4,
   "metadata": {},
   "outputs": [
    {
     "data": {
      "text/plain": [
       "0    1233\n",
       "1     237\n",
       "Name: Attrition, dtype: int64"
      ]
     },
     "execution_count": 4,
     "metadata": {},
     "output_type": "execute_result"
    }
   ],
   "source": [
    "df.Attrition.value_counts()"
   ]
  },
  {
   "cell_type": "markdown",
   "metadata": {},
   "source": [
    " The dataset is highly imbalanced. So, we will try different dirrerent methods to deal with it"
   ]
  },
  {
   "cell_type": "code",
   "execution_count": 5,
   "metadata": {},
   "outputs": [],
   "source": [
    "#Splitting targets and features\n",
    "\n",
    "y = df.Attrition\n",
    "X = df.drop('Attrition', axis=1)"
   ]
  },
  {
   "cell_type": "code",
   "execution_count": 6,
   "metadata": {},
   "outputs": [],
   "source": [
    "# Splitting dataset into training and testing\n",
    "\n",
    "from sklearn.model_selection import train_test_split\n",
    "\n",
    "X_train, X_test, y_train, y_test = train_test_split(X, y, test_size=0.2, random_state=0)"
   ]
  },
  {
   "cell_type": "code",
   "execution_count": 7,
   "metadata": {},
   "outputs": [],
   "source": [
    "# Standardizing our dataset\n",
    "\n",
    "from sklearn.preprocessing import StandardScaler\n",
    "\n",
    "scaler = StandardScaler()\n",
    "scaler.fit(X_train)\n",
    "X_train_scaled = scaler.transform(X_train)\n",
    "X_test_scaled = scaler.transform(X_test)    # We standardize test dataset"
   ]
  },
  {
   "cell_type": "markdown",
   "metadata": {},
   "source": [
    "## Techniques for balancing dataset :"
   ]
  },
  {
   "cell_type": "markdown",
   "metadata": {},
   "source": [
    "## 1) Upsampling & Downsampling"
   ]
  },
  {
   "cell_type": "code",
   "execution_count": 8,
   "metadata": {},
   "outputs": [],
   "source": [
    "df_minority = df[df.Attrition == 1]\n",
    "df_majority = df[df.Attrition ==0]"
   ]
  },
  {
   "cell_type": "code",
   "execution_count": 9,
   "metadata": {},
   "outputs": [],
   "source": [
    "from sklearn.utils import resample\n",
    "from sklearn.linear_model import LogisticRegression"
   ]
  },
  {
   "cell_type": "code",
   "execution_count": 10,
   "metadata": {},
   "outputs": [
    {
     "name": "stdout",
     "output_type": "stream",
     "text": [
      "1    1233\n",
      "0    1233\n",
      "Name: Attrition, dtype: int64\n",
      "Training Accuracy:  0.6850912778904665\n"
     ]
    }
   ],
   "source": [
    "# Upsampling minority \n",
    "df_minority_upsampled = resample(df_minority, replace=True, n_samples=1233, random_state=5)\n",
    "df_upsampled = pd.concat([df_majority, df_minority_upsampled])\n",
    "print(df_upsampled['Attrition'].value_counts())\n",
    "\n",
    "# Splitting new dataframe df_upsampled into X & y\n",
    "X_upsampled = df_upsampled.drop('Attrition', axis=1)\n",
    "y_upsampled = df_upsampled.Attrition\n",
    "\n",
    "# Splitting into training and testing dataset\n",
    "X_train_upsampled, X_test_upsampled, y_train_upsampled, y_test_upsampled = train_test_split(X_upsampled, y_upsampled, test_size=0.2, random_state=0)\n",
    "\n",
    "# Measuring training accuracy\n",
    "reg_upsampled = LogisticRegression().fit(X_train_upsampled, y_train_upsampled)\n",
    "print('Training Accuracy: ', reg_upsampled.score(X_train_upsampled, y_train_upsampled))"
   ]
  },
  {
   "cell_type": "code",
   "execution_count": 11,
   "metadata": {},
   "outputs": [
    {
     "name": "stdout",
     "output_type": "stream",
     "text": [
      "1    237\n",
      "0    237\n",
      "Name: Attrition, dtype: int64\n",
      "Training Accuracy:  0.7044854881266491\n"
     ]
    }
   ],
   "source": [
    "# Downsampling minority \n",
    "df_majority_downsampled = resample(df_majority, replace=False, n_samples=237, random_state=5)\n",
    "df_downsampled = pd.concat([df_minority, df_majority_downsampled])\n",
    "print(df_downsampled['Attrition'].value_counts())\n",
    "\n",
    "# Splitting new dataframe df_downsampled into X & y\n",
    "X_downsampled = df_downsampled.drop('Attrition', axis=1)\n",
    "y_downsampled = df_downsampled.Attrition\n",
    "\n",
    "# Splitting into training and testing dataset\n",
    "X_train_downsampled, X_test_downsampled, y_train_downsampled, y_test_downsampled = train_test_split(X_downsampled, y_downsampled, test_size=0.2, random_state=0)\n",
    "\n",
    "# Measuring training accuracy\n",
    "reg_downsampled = LogisticRegression().fit(X_train_downsampled, y_train_downsampled)\n",
    "print('Training Accuracy: ', reg_downsampled.score(X_train_downsampled, y_train_downsampled))"
   ]
  },
  {
   "cell_type": "markdown",
   "metadata": {},
   "source": [
    "## 2) Using Penalised SVM"
   ]
  },
  {
   "cell_type": "code",
   "execution_count": 12,
   "metadata": {},
   "outputs": [
    {
     "name": "stdout",
     "output_type": "stream",
     "text": [
      "Training Accuracy:  0.7721088435374149\n"
     ]
    }
   ],
   "source": [
    "from sklearn.svm import SVC\n",
    "\n",
    "model = SVC(kernel='linear', class_weight='balanced').fit(X_train_scaled, y_train)\n",
    "print('Training Accuracy: ', model.score(X_train_scaled, y_train))"
   ]
  },
  {
   "cell_type": "code",
   "execution_count": 13,
   "metadata": {},
   "outputs": [
    {
     "data": {
      "text/plain": [
       "array([0, 1], dtype=int64)"
      ]
     },
     "execution_count": 13,
     "metadata": {},
     "output_type": "execute_result"
    }
   ],
   "source": [
    "y_pred_svm = model.predict(X_train_scaled)\n",
    "np.unique(y_pred_svm)"
   ]
  },
  {
   "cell_type": "markdown",
   "metadata": {},
   "source": [
    "Thus, we can see that even though dataset is not balanced, model is predicting both values 0 & 1."
   ]
  },
  {
   "cell_type": "markdown",
   "metadata": {},
   "source": [
    "## 3) Random Forest Classifier"
   ]
  },
  {
   "cell_type": "code",
   "execution_count": 14,
   "metadata": {
    "scrolled": true
   },
   "outputs": [
    {
     "name": "stdout",
     "output_type": "stream",
     "text": [
      "Training Accuracy:  0.9319470699432892\n",
      "Validation Accuracy:  0.8813559322033898\n",
      "------------------------------------------------\n",
      "Training Accuracy:  0.9357277882797732\n",
      "Validation Accuracy:  0.8728813559322034\n",
      "------------------------------------------------\n",
      "Training Accuracy:  0.9310018903591682\n",
      "Validation Accuracy:  0.8813559322033898\n",
      "------------------------------------------------\n",
      "Training Accuracy:  0.9338374291115312\n",
      "Validation Accuracy:  0.8559322033898306\n",
      "------------------------------------------------\n",
      "Training Accuracy:  0.9310018903591682\n",
      "Validation Accuracy:  0.8559322033898306\n",
      "------------------------------------------------\n",
      "Training Accuracy:  0.9376181474480151\n",
      "Validation Accuracy:  0.8559322033898306\n",
      "------------------------------------------------\n",
      "Training Accuracy:  0.931067044381492\n",
      "Validation Accuracy:  0.905982905982906\n",
      "------------------------------------------------\n",
      "Training Accuracy:  0.9320113314447592\n",
      "Validation Accuracy:  0.8376068376068376\n",
      "------------------------------------------------\n",
      "Training Accuracy:  0.931067044381492\n",
      "Validation Accuracy:  0.7777777777777778\n",
      "------------------------------------------------\n",
      "Training Accuracy:  0.9254013220018886\n",
      "Validation Accuracy:  0.8632478632478633\n",
      "------------------------------------------------\n"
     ]
    }
   ],
   "source": [
    "from sklearn.ensemble import RandomForestClassifier\n",
    "from sklearn.model_selection import KFold \n",
    "\n",
    "# We use K Fold Validation\n",
    "kf = KFold(n_splits=10, random_state=5)\n",
    "\n",
    "for train_index,test_index in kf.split(X_train_scaled, y_train):\n",
    "    X_kf_train, X_kf_test = X_train_scaled[train_index], X_train_scaled[test_index]\n",
    "    y_kf_train, y_kf_test = y_train.iloc[train_index], y_train.iloc[test_index]\n",
    "    RFC_Model = RandomForestClassifier(n_estimators=500, min_samples_leaf=3).fit(X_kf_train, y_kf_train)\n",
    "    print('Training Accuracy: ', RFC_Model.score(X_kf_train, y_kf_train))\n",
    "    print('Validation Accuracy: ', RFC_Model.score(X_kf_test, y_kf_test))\n",
    "    print('------------------------------------------------')"
   ]
  },
  {
   "cell_type": "code",
   "execution_count": 15,
   "metadata": {},
   "outputs": [
    {
     "data": {
      "text/plain": [
       "array([0, 1], dtype=int64)"
      ]
     },
     "execution_count": 15,
     "metadata": {},
     "output_type": "execute_result"
    }
   ],
   "source": [
    "# Our model predicts both values 0 & 1\n",
    "y_pred_rfc = RFC_Model.predict(X_train_scaled)\n",
    "np.unique(y_pred_rfc)"
   ]
  },
  {
   "cell_type": "markdown",
   "metadata": {},
   "source": [
    "# Testing "
   ]
  },
  {
   "cell_type": "code",
   "execution_count": 16,
   "metadata": {},
   "outputs": [
    {
     "name": "stdout",
     "output_type": "stream",
     "text": [
      "Upsampled Testing Accuracy:  0.5544217687074829\n",
      "Downsampled Testing Accuracy:  0.5986394557823129\n",
      "SVM Testing Accuracy:  0.7721088435374149\n",
      "Random Forest Testing Accuracy:  0.8503401360544217\n"
     ]
    }
   ],
   "source": [
    "print('Upsampled Testing Accuracy: ', reg_upsampled.score(X_test_scaled, y_test))\n",
    "print('Downsampled Testing Accuracy: ', reg_downsampled.score(X_test_scaled, y_test))\n",
    "print('SVM Testing Accuracy: ', model.score(X_test_scaled, y_test))\n",
    "print('Random Forest Testing Accuracy: ', RFC_Model.score(X_test_scaled, y_test))\n",
    "# Even though accuracy takes a nose-dive in upsampled and downsampled models,\n",
    "# they are more interpretable."
   ]
  },
  {
   "cell_type": "code",
   "execution_count": 17,
   "metadata": {},
   "outputs": [
    {
     "data": {
      "text/html": [
       "<div>\n",
       "<style scoped>\n",
       "    .dataframe tbody tr th:only-of-type {\n",
       "        vertical-align: middle;\n",
       "    }\n",
       "\n",
       "    .dataframe tbody tr th {\n",
       "        vertical-align: top;\n",
       "    }\n",
       "\n",
       "    .dataframe thead th {\n",
       "        text-align: right;\n",
       "    }\n",
       "</style>\n",
       "<table border=\"1\" class=\"dataframe\">\n",
       "  <thead>\n",
       "    <tr style=\"text-align: right;\">\n",
       "      <th></th>\n",
       "      <th>Actual Values</th>\n",
       "      <th>Predicted Values</th>\n",
       "    </tr>\n",
       "  </thead>\n",
       "  <tbody>\n",
       "    <tr>\n",
       "      <th>442</th>\n",
       "      <td>0</td>\n",
       "      <td>0</td>\n",
       "    </tr>\n",
       "    <tr>\n",
       "      <th>1091</th>\n",
       "      <td>0</td>\n",
       "      <td>0</td>\n",
       "    </tr>\n",
       "    <tr>\n",
       "      <th>785</th>\n",
       "      <td>0</td>\n",
       "      <td>0</td>\n",
       "    </tr>\n",
       "    <tr>\n",
       "      <th>1332</th>\n",
       "      <td>1</td>\n",
       "      <td>1</td>\n",
       "    </tr>\n",
       "    <tr>\n",
       "      <th>501</th>\n",
       "      <td>0</td>\n",
       "      <td>0</td>\n",
       "    </tr>\n",
       "  </tbody>\n",
       "</table>\n",
       "</div>"
      ],
      "text/plain": [
       "      Actual Values  Predicted Values\n",
       "442               0                 0\n",
       "1091              0                 0\n",
       "785               0                 0\n",
       "1332              1                 1\n",
       "501               0                 0"
      ]
     },
     "execution_count": 17,
     "metadata": {},
     "output_type": "execute_result"
    }
   ],
   "source": [
    "# Using Random Forest Regressor\n",
    "pred = pd.DataFrame()\n",
    "pred['Actual Values'] = y_test\n",
    "pred['Predicted Values'] = RFC_Model.predict(X_test_scaled)\n",
    "pred[pred['Actual Values'] == pred['Predicted Values']].head()"
   ]
  },
  {
   "cell_type": "code",
   "execution_count": 18,
   "metadata": {},
   "outputs": [
    {
     "data": {
      "text/html": [
       "<div>\n",
       "<style scoped>\n",
       "    .dataframe tbody tr th:only-of-type {\n",
       "        vertical-align: middle;\n",
       "    }\n",
       "\n",
       "    .dataframe tbody tr th {\n",
       "        vertical-align: top;\n",
       "    }\n",
       "\n",
       "    .dataframe thead th {\n",
       "        text-align: right;\n",
       "    }\n",
       "</style>\n",
       "<table border=\"1\" class=\"dataframe\">\n",
       "  <thead>\n",
       "    <tr style=\"text-align: right;\">\n",
       "      <th></th>\n",
       "      <th>Model</th>\n",
       "      <th>Accuracy</th>\n",
       "    </tr>\n",
       "  </thead>\n",
       "  <tbody>\n",
       "    <tr>\n",
       "      <th>0</th>\n",
       "      <td>Upsampled Logistic</td>\n",
       "      <td>0.554422</td>\n",
       "    </tr>\n",
       "    <tr>\n",
       "      <th>1</th>\n",
       "      <td>Downsampled Logistic</td>\n",
       "      <td>0.598639</td>\n",
       "    </tr>\n",
       "    <tr>\n",
       "      <th>2</th>\n",
       "      <td>SVM</td>\n",
       "      <td>0.772109</td>\n",
       "    </tr>\n",
       "    <tr>\n",
       "      <th>3</th>\n",
       "      <td>Random Forest Classifier</td>\n",
       "      <td>0.850340</td>\n",
       "    </tr>\n",
       "  </tbody>\n",
       "</table>\n",
       "</div>"
      ],
      "text/plain": [
       "                      Model  Accuracy\n",
       "0        Upsampled Logistic  0.554422\n",
       "1      Downsampled Logistic  0.598639\n",
       "2                       SVM  0.772109\n",
       "3  Random Forest Classifier  0.850340"
      ]
     },
     "execution_count": 18,
     "metadata": {},
     "output_type": "execute_result"
    }
   ],
   "source": [
    "# Final accuracies of different models\n",
    "result = pd.DataFrame()\n",
    "result['Model'] = ['Upsampled Logistic','Downsampled Logistic','SVM','Random Forest Classifier']\n",
    "result['Accuracy'] = [reg_upsampled.score(X_test_scaled, y_test),\n",
    "                      reg_downsampled.score(X_test_scaled, y_test),\n",
    "                      model.score(X_test_scaled, y_test),\n",
    "                      RFC_Model.score(X_test_scaled, y_test)]\n",
    "result"
   ]
  },
  {
   "cell_type": "markdown",
   "metadata": {},
   "source": [
    "## Thus, Random Forest Classifier gives us the best accuracy of 85.03% "
   ]
  }
 ],
 "metadata": {
  "kernelspec": {
   "display_name": "atharva",
   "language": "python",
   "name": "atharva"
  },
  "language_info": {
   "codemirror_mode": {
    "name": "ipython",
    "version": 3
   },
   "file_extension": ".py",
   "mimetype": "text/x-python",
   "name": "python",
   "nbconvert_exporter": "python",
   "pygments_lexer": "ipython3",
   "version": "3.7.6"
  }
 },
 "nbformat": 4,
 "nbformat_minor": 4
}
